{
 "cells": [
  {
   "cell_type": "markdown",
   "id": "8dbf489b",
   "metadata": {},
   "source": [
    "# import modules"
   ]
  },
  {
   "cell_type": "code",
   "execution_count": 2,
   "id": "8bd8bb7c",
   "metadata": {},
   "outputs": [
    {
     "name": "stderr",
     "output_type": "stream",
     "text": [
      "/opt/anaconda3/envs/Uni_test/lib/python3.7/site-packages/tqdm/auto.py:21: TqdmWarning: IProgress not found. Please update jupyter and ipywidgets. See https://ipywidgets.readthedocs.io/en/stable/user_install.html\n",
      "  from .autonotebook import tqdm as notebook_tqdm\n"
     ]
    }
   ],
   "source": [
    "import requests\n",
    "import numpy as np\n",
    "import pandas as pd\n",
    "from pubchempy import Compound, get_compounds\n",
    "from matplotlib import pyplot as plt\n",
    "import seaborn as sns\n",
    "from urllib import request\n",
    "from brendapyrser import BRENDA\n",
    "import html\n",
    "import pickle\n",
    "from math import exp\n",
    "from feature_functions import *\n",
    "import random\n",
    "import re\n",
    "from rdkit import Chem\n",
    "from rdkit.Chem import AllChem\n",
    "from rdkit.Chem import DataStructs"
   ]
  },
  {
   "cell_type": "code",
   "execution_count": null,
   "id": "35b1d828",
   "metadata": {},
   "outputs": [],
   "source": [
    "brenda = BRENDA('../brenda.txt')"
   ]
  },
  {
   "cell_type": "code",
   "execution_count": null,
   "id": "b41b45bf",
   "metadata": {},
   "outputs": [],
   "source": [
    "# Plot all Km values in the database\n",
    "BRENDA_Kcats = np.array(\n",
    "    [v for r in brenda.reactions for v in r.Kcatvalues.get_values()]\n",
    ")\n",
    "values = BRENDA_Kcats[(BRENDA_Kcats < 1000) & (BRENDA_Kcats >= 0)]\n",
    "plt.hist(values, bins=15, color=(128/255, 166/255, 226/255))\n",
    "plt.yscale('log')  # 设置纵坐标为以10为底的对数刻度\n",
    "# plt.title(f\"Median Kcat value: {np.median(values)}\")\n",
    "plt.xlabel(\"$k_\\mathrm{cat}$ (1/s)\")\n",
    "plt.ylabel(\"Count\")\n",
    "plt.text(0.55, 0.9, f\"Minimum Kcat value: {values.min()} \\nMaximum Kcat value: {values.max()} \\nMedian Kcat value: {np.median(values)}\", \n",
    "         horizontalalignment='left', verticalalignment='center', transform=plt.gca().transAxes)\n",
    "plt.grid()\n",
    "# plt.show()\n",
    "print(f\"Minimum and maximum values in database: {values.min()} 1/s, {values.max()} 1/s\")\n",
    "# plt.savefig('median_kcat.pdf', dpi=300, bbox_inches='tight')"
   ]
  },
  {
   "cell_type": "code",
   "execution_count": null,
   "id": "11899c8f",
   "metadata": {},
   "outputs": [],
   "source": [
    "# Plot all enzyme optimal temperature values in the database\n",
    "BRENDA_TO = np.array(\n",
    "    [\n",
    "        v\n",
    "        for r in brenda.reactions\n",
    "        for v in r.temperature.filter_by_condition(\"optimum\").get_values()\n",
    "    ]\n",
    ")\n",
    "values = BRENDA_TO[(BRENDA_TO >= 0)]\n",
    "plt.hist(values, bins=15, color=(128/255, 166/255, 226/255))\n",
    "plt.text(0.55, 0.9, f\"Median Optimum $T$: {np.median(values)}$^oC$\", \n",
    "         horizontalalignment='left', verticalalignment='center', transform=plt.gca().transAxes)\n",
    "plt.ylabel(\"Count\")\n",
    "plt.grid()\n",
    "# plt.title(f\"Median Optimum Temperature: {np.median(values)}\")\n",
    "plt.xlabel(\" $T$ (${}^oC$)\")\n",
    "# plt.show()\n",
    "print(f\"Minimum and maximum values in database: {values.min()} °C, {values.max()} °C\")\n",
    "# plt.savefig('temperature.pdf', dpi=300, bbox_inches='tight')"
   ]
  },
  {
   "cell_type": "code",
   "execution_count": 6,
   "id": "ac32c85e",
   "metadata": {},
   "outputs": [],
   "source": [
    "def get_smiles(substrate):\n",
    "    try :\n",
    "        url = 'https://pubchem.ncbi.nlm.nih.gov/rest/pug/compound/name/%s/property/CanonicalSMILES/TXT'%substrate\n",
    "        req = requests.get(url)\n",
    "        if req.status_code != 200:\n",
    "            smiles = 'NaN'\n",
    "        else:\n",
    "            smiles = req.content.splitlines()[0].decode()\n",
    "    except :\n",
    "        smiles = 'NaN'\n",
    "    return smiles\n",
    "\n",
    "def get_seq(ID):\n",
    "    url = \"https://www.uniprot.org/uniprot/%s.fasta\" % ID\n",
    "    try :\n",
    "        data = requests.get(url)\n",
    "        if data.status_code != 200:\n",
    "            seq = 'NaN'\n",
    "        else:\n",
    "            seq =  \"\".join(data.text.split(\"\\n\")[1:])\n",
    "    except :\n",
    "        seq = 'NaN'\n",
    "    return seq\n",
    "\n",
    "def check_mutations(seq, mut_list):\n",
    "    no_error = True\n",
    "    for mut in mut_list:\n",
    "        ind = int(mut[1:-1])-1\n",
    "        old = mut[0].upper()\n",
    "        if (ind > len(seq)-1) or (seq[ind] != old):\n",
    "            no_error = False\n",
    "            break\n",
    "    return no_error\n",
    "\n",
    "def apply_mutations(seq, mut_list):\n",
    "    mut_seq = seq\n",
    "    for mut in mut_list:\n",
    "        ind = int(mut[1:-1])-1\n",
    "        new = mut[-1].upper()\n",
    "        temp_list = list(mut_seq)\n",
    "        temp_list[ind] = new\n",
    "        mut_seq = ''.join(temp_list)\n",
    "    return mut_seq"
   ]
  },
  {
   "cell_type": "markdown",
   "id": "64de22fe",
   "metadata": {},
   "source": [
    "# kcat unit: 1/s; Km unit: M; temperature unit: K"
   ]
  },
  {
   "cell_type": "code",
   "execution_count": null,
   "id": "7f7cd5b9",
   "metadata": {},
   "outputs": [],
   "source": [
    "brenda_ec_list = []\n",
    "for rxn in brenda.reactions:\n",
    "    brenda_ec_list.append( rxn.ec_number )\n",
    "brenda_ec_list = list(set(brenda_ec_list))\n",
    "print(len(brenda_ec_list))"
   ]
  },
  {
   "cell_type": "code",
   "execution_count": null,
   "id": "c50b07e1",
   "metadata": {},
   "outputs": [],
   "source": [
    "QUERY_URL = 'http://sabiork.h-its.org/sabioRestWebServices/kineticlawsExportTsv'\n",
    "\n",
    "with open('../data/enzyme.dat', 'r') as outfile :\n",
    "    lines = outfile.readlines()\n",
    "\n",
    "ec_list = []\n",
    "for line in lines :\n",
    "    if line.startswith('ID') :\n",
    "        ec = line.strip().split('  ')[1]\n",
    "        ec_list.append(ec.strip())\n",
    "# print(ec_list)\n",
    "print(len(ec_list))"
   ]
  },
  {
   "cell_type": "markdown",
   "id": "c25c8568",
   "metadata": {},
   "source": [
    "# download kcat data from brenda"
   ]
  },
  {
   "cell_type": "code",
   "execution_count": null,
   "id": "e414f48e",
   "metadata": {},
   "outputs": [],
   "source": [
    "def get_entry_kcat( ec ):\n",
    "    r = brenda.reactions.get_by_id(ec)\n",
    "    all_data = r.Kcatvalues\n",
    "    result = []\n",
    "    for sub in all_data.keys():\n",
    "        sub_data = all_data[sub]\n",
    "        for entry in sub_data:\n",
    "            if ('Â°C' not in entry['meta'] ) or ( '#' not in entry['meta']) \\\n",
    "                        or (';' in entry['meta']) or ('specified' in entry['meta'] ):\n",
    "                continue\n",
    "            else:\n",
    "                value = entry['value']\n",
    "                temperature = html.unescape( entry['meta'].split('Â°C')[0] ) [-2:]\n",
    "                try :\n",
    "                    temperature = float(temperature)  \n",
    "                except:\n",
    "                    continue\n",
    "                    \n",
    "                if 'mutant' not in entry['meta']:\n",
    "                    enz_type = 'WT'\n",
    "                    mutation = 'None'\n",
    "                else:\n",
    "                    mut4 = re.findall('[A-Z][0-9][0-9][0-9][0-9][A-Z]',entry['meta'])\n",
    "                    mut3 = re.findall('[A-Z][0-9][0-9][0-9][A-Z]',entry['meta'])\n",
    "                    mut2 = re.findall('[A-Z][0-9][0-9][A-Z]',entry['meta'])\n",
    "                    mut1 = re.findall('[A-Z][0-9][A-Z]',entry['meta'])\n",
    "                    mut_list = mut4 + mut3 + mut2 + mut1\n",
    "                    if len(mut_list) < 1:\n",
    "                        continue\n",
    "                    else:\n",
    "                        enz_type = 'MUT'\n",
    "                        mutation = '/'.join(mut_list) \n",
    "                    \n",
    "                p_ref = entry['meta'].split('#')[1].strip()\n",
    "                if ',' in p_ref:\n",
    "                    p_ref_list = p_ref.split(',')\n",
    "                else:\n",
    "                    p_ref_list = [ p_ref ]\n",
    "                p_ids = []\n",
    "                for ref in p_ref_list:\n",
    "                    p_ids.append( r.proteins[ref]['proteinID']  )\n",
    "                    \n",
    "                for p_id in p_ids:\n",
    "                    if p_id == '':\n",
    "                        continue\n",
    "                    else:\n",
    "                        result.append( {'EC':ec,'temperature':float(temperature),'sub': sub, \n",
    "                                'UniProtID':p_id,'EnzymeType':enz_type,'Mutation':mutation,'kcat': float(value) } )\n",
    "    return result"
   ]
  },
  {
   "cell_type": "code",
   "execution_count": null,
   "id": "a7fb0e24",
   "metadata": {},
   "outputs": [],
   "source": [
    "result = []\n",
    "idx = 0\n",
    "for ec in brenda_ec_list:\n",
    "    if idx % 500 == 0:\n",
    "        print(str(idx) + ' done')\n",
    "    result += get_entry_kcat( ec )\n",
    "    idx+=1"
   ]
  },
  {
   "cell_type": "code",
   "execution_count": null,
   "id": "11012e04",
   "metadata": {},
   "outputs": [],
   "source": [
    "rawdata_brenda = pd.DataFrame(result)\n",
    "rawdata_brenda = (rawdata_brenda[rawdata_brenda['kcat']>0]).dropna().reset_index().drop(['index'],axis=1)\n",
    "proteinIDs = []\n",
    "for i in range(len(rawdata_brenda['UniProtID'])):\n",
    "    ID = list( rawdata_brenda['UniProtID'] )[i]\n",
    "    proteinIDs.append( ID.split(' ')[0] )\n",
    "rawdata_brenda['UniProtID'] =  proteinIDs        "
   ]
  },
  {
   "cell_type": "code",
   "execution_count": null,
   "id": "d5d40b34",
   "metadata": {},
   "outputs": [],
   "source": [
    "kcat_brenda = []\n",
    "total = len(rawdata_brenda['sub'])\n",
    "\n",
    "for i in range(len(rawdata_brenda['sub'])):\n",
    "    ec, T, sub, pid, enz_type, muts, kcat = rawdata_brenda.iloc[i]\n",
    "    data={'EC':ec,'Temp':T,'sub':sub,'ProtID':pid,'EnzymeType':enz_type,'Mutation':muts,'kcat':kcat}\n",
    "    data['smiles']=get_smiles( sub )\n",
    "    if data['smiles']  == 'NaN' or data['smiles'] == '':\n",
    "        continue\n",
    "    temp_seq = get_seq( pid )\n",
    "    if temp_seq == 'NaN' or temp_seq == '':\n",
    "        continue\n",
    "    if enz_type == 'WT':\n",
    "        data['seq'] = temp_seq\n",
    "    else:\n",
    "        mut_list = muts.split('/')\n",
    "        if check_mutations(temp_seq, mut_list):\n",
    "            temp_seq = apply_mutations(temp_seq, mut_list)\n",
    "            data['seq'] = temp_seq\n",
    "        else:\n",
    "            continue\n",
    "              \n",
    "    kcat_brenda.append(data)\n",
    "    if i%2 == 0: #2000\n",
    "        print(str(i/total)+'% done')"
   ]
  },
  {
   "cell_type": "code",
   "execution_count": null,
   "id": "a3938334",
   "metadata": {},
   "outputs": [],
   "source": [
    "raw_kcat_brenda = pd.DataFrame( kcat_brenda )\n",
    "raw_kcat_brenda = raw_kcat_brenda.dropna().reset_index().drop(['index'],axis=1)"
   ]
  },
  {
   "cell_type": "code",
   "execution_count": null,
   "id": "5fc05e66",
   "metadata": {},
   "outputs": [],
   "source": [
    "# raw_kcat_brenda.to_csv('../data/raw_kcat_brenda.csv',index = None)"
   ]
  },
  {
   "cell_type": "markdown",
   "id": "24010d54",
   "metadata": {},
   "source": [
    "# extract info from sabiork"
   ]
  },
  {
   "cell_type": "code",
   "execution_count": null,
   "id": "f61f6773",
   "metadata": {},
   "outputs": [],
   "source": [
    "# # download data from sabiork\n",
    "# f = open('../data/raw_data.txt','w')\n",
    "# i=0\n",
    "# for ec in ec_list :\n",
    "#     query_dict = {\"ECNumber\":'%s' %ec,}\n",
    "#     query_string = ' AND '.join(['%s:%s' % (k,v) for k,v in query_dict.items()])\n",
    "#     query = {'fields[]':['EntryID', 'Substrate', 'EnzymeType', 'PubMedID', 'Organism', \n",
    "#                          'UniprotID','ECNumber','Parameter','Temperature'], 'q':query_string}\n",
    "#     request = requests.post(QUERY_URL, params = query)\n",
    "#     results = request.text\n",
    "#     if i >0:\n",
    "#         results = results.replace(\"EntryID\\tSubstrate\\tEnzymeType\\tPubMedID\\tOrganism\\tUniprotID\\tECNumber\\tparameter.type\\tparameter.associatedSpecies\\tparameter.startValue\\tparameter.endValue\\tparameter.standardDeviation\\tparameter.unit\\tTemperature\\n\",'')\n",
    "#     f.write(results)\n",
    "#     if i%100 == 0:\n",
    "#         print(i)\n",
    "#     i=i+1\n",
    "# f.close()"
   ]
  },
  {
   "cell_type": "code",
   "execution_count": 3,
   "id": "bfe4c6ed",
   "metadata": {},
   "outputs": [],
   "source": [
    "#unit of kcat is 1/s\n",
    "kcat_uni = []\n",
    "with open('../data/raw_data.txt') as file:\n",
    "    lines = file.readlines()\n",
    "    for l in lines:\n",
    "        l=l.replace('\\n','').strip()\n",
    "        params = l.split('\\t')\n",
    "        if len(params)!=14:\n",
    "            continue\n",
    "        if params[7] != 'kcat':\n",
    "            continue\n",
    "        if params[9] == '':\n",
    "            continue\n",
    "            \n",
    "        data = {}\n",
    "        data['Organism']=params[4]\n",
    "        data['UniprotID']=params[5]\n",
    "        data['EC']=params[6]\n",
    "        data['Temperature']=params[13]\n",
    "        if data['UniprotID'] == '-' or data['Temperature']=='-' or data['UniprotID'] == '' or data['Temperature']=='':\n",
    "            continue\n",
    "        \n",
    "        if 'mutant' not in params[2]:\n",
    "            enz_type = 'WT'\n",
    "            mutation = 'None'\n",
    "        else:\n",
    "            mut4 = re.findall('[A-Z][0-9][0-9][0-9][0-9][A-Z]',params[2])\n",
    "            mut3 = re.findall('[A-Z][0-9][0-9][0-9][A-Z]',params[2])\n",
    "            mut2 = re.findall('[A-Z][0-9][0-9][A-Z]',params[2])\n",
    "            mut1 = re.findall('[A-Z][0-9][A-Z]',params[2])\n",
    "            mut_list = mut4 + mut3 + mut2 + mut1\n",
    "            if len(mut_list) < 1:\n",
    "                continue\n",
    "            else:\n",
    "                enz_type = 'MUT'\n",
    "                mutation = '/'.join(mut_list)\n",
    "        data['EnzymeType'] = enz_type\n",
    "        data['Mutation'] = mutation\n",
    "        if params[7] == 'kcat':\n",
    "            if params[12]!='s^(-1)':\n",
    "                continue\n",
    "            #remove h2o and h+\n",
    "            substrates = params[1].replace('H2O;','').replace(';H2O','').replace('H+;','').replace(';H+','')\n",
    "            #remove cofactors\n",
    "            cofactors = ['FADH2','FAD','NAD+','NADH']\n",
    "            if ';' in substrates:\n",
    "                for cof in cofactors:\n",
    "                    substrates = substrates.replace(';'+cof,'').replace(cof+';','')\n",
    "                    \n",
    "            subs = substrates.split(';')\n",
    "            \n",
    "            if len(subs) == 1:\n",
    "                data['sub']=subs[0]\n",
    "                data['kcat']=params[9]\n",
    "                data['unit']=params[12]\n",
    "                kcat_uni.append(data)      \n",
    "        else:\n",
    "            continue           "
   ]
  },
  {
   "cell_type": "code",
   "execution_count": 4,
   "id": "388dcc9c",
   "metadata": {},
   "outputs": [],
   "source": [
    "kcat_table_uni = pd.DataFrame(kcat_uni).dropna()\n",
    "kcat_table_uni = kcat_table_uni.dropna().drop_duplicates().reset_index().drop(['index'],axis=1)"
   ]
  },
  {
   "cell_type": "markdown",
   "id": "467efa91",
   "metadata": {},
   "source": [
    "# Process kcat from sabiork"
   ]
  },
  {
   "cell_type": "code",
   "execution_count": 7,
   "id": "4afd8641",
   "metadata": {},
   "outputs": [
    {
     "name": "stdout",
     "output_type": "stream",
     "text": [
      "0.0% done\n"
     ]
    }
   ],
   "source": [
    "uni = []\n",
    "total = len(kcat_table_uni['sub'])\n",
    "\n",
    "for i in range(len(kcat_table_uni['sub'])):\n",
    "    if i%1000 == 0:\n",
    "        print( str(i/total)+'% done' ) \n",
    "        \n",
    "    data={'EC':list(kcat_table_uni['EC'])[i],'Temp':float( list(kcat_table_uni['Temperature'])[i] ),\n",
    "          'kcat':float( list(kcat_table_uni['kcat'])[i]), 'sub':list(kcat_table_uni['sub'])[i],\n",
    "          'ProtID': list(kcat_table_uni['UniprotID'])[i], 'EnzymeType':list(kcat_table_uni['EnzymeType'])[i],\n",
    "          'Mutation':list(kcat_table_uni['Mutation'])[i] }\n",
    "    \n",
    "    data['smiles']=get_smiles( list(kcat_table_uni['sub'])[i] )\n",
    "    if data['smiles'] == 'NaN' or data['smiles'] == '':\n",
    "        continue\n",
    "    temp_seq =get_seq( list(kcat_table_uni['UniprotID'])[i] )\n",
    "    if temp_seq == 'NaN' or temp_seq == '':\n",
    "        continue\n",
    "        \n",
    "    if data['EnzymeType'] == 'WT':\n",
    "        data['seq'] = temp_seq\n",
    "    else:\n",
    "        mut_list = data['Mutation'].split('/')\n",
    "        if check_mutations(temp_seq, mut_list):\n",
    "            temp_seq = apply_mutations(temp_seq, mut_list)\n",
    "            data['seq'] = temp_seq\n",
    "        else:\n",
    "            continue\n",
    "        \n",
    "    uni.append(data)"
   ]
  },
  {
   "cell_type": "code",
   "execution_count": null,
   "id": "a32fa4b4",
   "metadata": {},
   "outputs": [],
   "source": [
    "uni_table=pd.DataFrame(uni)\n",
    "uni_table = uni_table.dropna().drop_duplicates().reset_index().drop(['index'],axis=1)\n",
    "uni_table.to_csv('../data/raw_kcat_sa.csv',index=None)"
   ]
  },
  {
   "cell_type": "markdown",
   "id": "7225da79",
   "metadata": {},
   "source": [
    "# merge kcat data from brenda and sabiork\n",
    "## - check conflicts(pick the largest one), kcat > 0, unique compound-protein pairs"
   ]
  },
  {
   "cell_type": "code",
   "execution_count": null,
   "id": "06fb32b3",
   "metadata": {
    "scrolled": true
   },
   "outputs": [],
   "source": [
    "raw_kcat_brenda = pd.read_csv('../data/raw_kcat_brenda.csv')\n",
    "raw_kcat_brenda = raw_kcat_brenda[['EC','sub', 'ProtID', 'EnzymeType', 'Mutation',\n",
    "                                   'kcat','Temp','smiles', 'seq']]\n",
    "raw_kcat_brenda['source'] = ['brenda' for i in range(len(raw_kcat_brenda['EC']))]\n",
    "print( len(raw_kcat_brenda['EC']) )\n",
    "raw_kcat_sa = pd.read_csv('../data/raw_kcat_sa.csv')\n",
    "raw_kcat_sa = raw_kcat_sa[['EC','sub', 'ProtID', 'EnzymeType', 'Mutation',\n",
    "                                   'kcat','Temp','smiles', 'seq']]\n",
    "raw_kcat_sa['source'] = ['sabiork' for i in range(len(raw_kcat_sa['EC']))]\n",
    "print( len(raw_kcat_sa['EC']) )\n",
    "\n",
    "kcat_merge =  (pd.concat([raw_kcat_sa,raw_kcat_brenda]) ).reset_index().drop(['index'],axis=1)\n",
    "print( len(kcat_merge['EC']) )"
   ]
  },
  {
   "cell_type": "code",
   "execution_count": null,
   "id": "0a47dadd",
   "metadata": {},
   "outputs": [],
   "source": [
    "keep_uni = []\n",
    "for i in range( len(kcat_merge['EC']) ):\n",
    "    T, smiles, seq = list(kcat_merge['Temp'])[i], list(kcat_merge['smiles'])[i], list(kcat_merge['seq'])[i]\n",
    "    temp_table = kcat_merge[ (kcat_merge['Temp']==T)&(kcat_merge['smiles']==smiles)&(kcat_merge['seq']==seq)]\n",
    "    temp_table = temp_table.sort_values(by=['kcat'],ascending=False)\n",
    "    keep_uni.append(temp_table.index[0])\n",
    "keep_uni = list(set(keep_uni))\n",
    "kcat_merge = ( kcat_merge.iloc[keep_uni] ).reset_index().drop(['index'],axis=1)\n",
    "print( len(kcat_merge['EC']) )"
   ]
  },
  {
   "cell_type": "code",
   "execution_count": null,
   "id": "857ec7f2",
   "metadata": {},
   "outputs": [],
   "source": [
    "TC_list = list(kcat_merge['Temp'])\n",
    "kcat_merge['Inv_Temp'] = [ 1/float(T+273.15) for T in TC_list]"
   ]
  },
  {
   "cell_type": "code",
   "execution_count": null,
   "id": "256648bd",
   "metadata": {},
   "outputs": [],
   "source": [
    "kcat_merge = kcat_merge[ ['EC', 'sub', 'ProtID', 'EnzymeType', 'Mutation', 'kcat', 'Temp', 'Inv_Temp',\n",
    "       'smiles', 'seq', 'source'] ]\n",
    "kcat_merge.head()"
   ]
  },
  {
   "cell_type": "markdown",
   "id": "facf6a9c",
   "metadata": {},
   "source": [
    "# Remove metal ions and smiles with isolated parts from entries"
   ]
  },
  {
   "cell_type": "code",
   "execution_count": null,
   "id": "703ba214",
   "metadata": {},
   "outputs": [],
   "source": [
    "ions = ['[Fe+3]','[Fe+2]','[Zn+2]','[Cu+2]','[K+]','[Ca+2]','[Hg+2]','[Mg+2]','[Mn+2]','[Mg+2]','[S-2]',\n",
    "              '[Cd+2]','[Co+2]','[Ag+]','[Cr+6]','[Cs+]','[F-]','[Br-]','[Cl-]','[I-]','[Na+]','[Ni+2]','[No]','[Mo]']\n",
    "rm_ind = []\n",
    "for i in range( len(kcat_merge['smiles']) ):\n",
    "    if '.' in list( kcat_merge['smiles'] )[i]:\n",
    "        rm_ind.append(i)\n",
    "        continue\n",
    "        \n",
    "    for ion in ions:\n",
    "        if ion in list( kcat_merge['smiles'] )[i]:\n",
    "            rm_ind.append(i)\n",
    "rm_ind = list(set(rm_ind))\n",
    "kcat_merge = ( kcat_merge.drop(rm_ind) ).reset_index().drop(['index'],axis=1) "
   ]
  },
  {
   "cell_type": "code",
   "execution_count": null,
   "id": "219f0dc2",
   "metadata": {},
   "outputs": [],
   "source": [
    "kcat_merge =( kcat_merge[kcat_merge['kcat']>0]).reset_index().drop(['index'],axis=1) \n",
    "print( len(kcat_merge['EC']) )"
   ]
  },
  {
   "cell_type": "code",
   "execution_count": null,
   "id": "b09c8298",
   "metadata": {},
   "outputs": [],
   "source": [
    "# kcat_merge.to_csv('../data/kcat_merge.csv',index=None)"
   ]
  },
  {
   "cell_type": "markdown",
   "id": "8be9d31f",
   "metadata": {},
   "source": [
    "# Additional molecular properties of substrates (x)\n",
    "* MW, logP, MR, TPSA, labuteasa, fractioncsp3, hba, hbd;"
   ]
  },
  {
   "cell_type": "code",
   "execution_count": null,
   "id": "f18631c0",
   "metadata": {
    "scrolled": true
   },
   "outputs": [],
   "source": [
    "# kcat_merge = pd.read_csv('../data/kcat_merge.csv')\n",
    "# print(kcat_merge.columns)\n",
    "# kcat_merge.head()"
   ]
  },
  {
   "cell_type": "code",
   "execution_count": null,
   "id": "f24e7625",
   "metadata": {},
   "outputs": [],
   "source": [
    "# def calc_addifeatures(smiles):\n",
    "#     mol = Chem.AddHs(Chem.MolFromSmiles(smiles))\n",
    "#     mw = Chem.rdMolDescriptors.CalcExactMolWt(mol)\n",
    "#     logp, mr = Chem.rdMolDescriptors.CalcCrippenDescriptors(mol)\n",
    "#     tpsa = Chem.rdMolDescriptors.CalcTPSA(mol)\n",
    "#     labuteasa = Chem.rdMolDescriptors.CalcLabuteASA(mol)\n",
    "#     fcsp3 = Chem.rdMolDescriptors.CalcFractionCSP3(mol)\n",
    "#     hba = Chem.rdMolDescriptors.CalcNumLipinskiHBA(mol)\n",
    "#     hbd = Chem.rdMolDescriptors.CalcNumLipinskiHBD(mol)\n",
    "#     return {'mw':mw, 'logp':logp, 'mr':mr, 'tpsa':tpsa, 'labuteasa':labuteasa, \n",
    "#             'fcsp3':fcsp3, 'hba':hba, 'hbd':hbd}"
   ]
  },
  {
   "cell_type": "code",
   "execution_count": null,
   "id": "a7cf9370",
   "metadata": {},
   "outputs": [],
   "source": [
    "# addi_features = []\n",
    "# for i in range(len(kcat_merge['smiles'])):\n",
    "#     smiles = list( kcat_merge['smiles'] )[i]\n",
    "#     addi_features.append( calc_addifeatures(smiles) )\n",
    "# addi_table = pd.DataFrame(addi_features)\n",
    "# print(addi_table.columns)"
   ]
  },
  {
   "cell_type": "code",
   "execution_count": null,
   "id": "4dd20519",
   "metadata": {},
   "outputs": [],
   "source": [
    "# kcat_merge = pd.concat([kcat_merge,addi_table],axis=1)\n",
    "# kcat_merge = kcat_merge[['EC', 'sub', 'ProtID', 'EnzymeType', 'Mutation', 'smiles', 'seq','Temp',\\\n",
    "#                          'mw', 'logp', 'mr', 'tpsa', 'labuteasa', 'fcsp3', 'hba', 'hbd','kcat', 'source']]\n",
    "# EC = [x.replace('()','').strip() for x in list(kcat_merge['EC'])]\n",
    "# kcat_merge['EC'] = EC\n",
    "# kcat_merge.head()"
   ]
  },
  {
   "cell_type": "markdown",
   "id": "0a6322f6",
   "metadata": {},
   "source": [
    "# Assign enzyme pathways"
   ]
  },
  {
   "cell_type": "code",
   "execution_count": 3,
   "id": "154ef143",
   "metadata": {},
   "outputs": [
    {
     "data": {
      "text/html": [
       "<div>\n",
       "<style scoped>\n",
       "    .dataframe tbody tr th:only-of-type {\n",
       "        vertical-align: middle;\n",
       "    }\n",
       "\n",
       "    .dataframe tbody tr th {\n",
       "        vertical-align: top;\n",
       "    }\n",
       "\n",
       "    .dataframe thead th {\n",
       "        text-align: right;\n",
       "    }\n",
       "</style>\n",
       "<table border=\"1\" class=\"dataframe\">\n",
       "  <thead>\n",
       "    <tr style=\"text-align: right;\">\n",
       "      <th></th>\n",
       "      <th>EC</th>\n",
       "      <th>sub</th>\n",
       "      <th>ProtID</th>\n",
       "      <th>EnzymeType</th>\n",
       "      <th>Mutation</th>\n",
       "      <th>kcat</th>\n",
       "      <th>Temp</th>\n",
       "      <th>Temp_K</th>\n",
       "      <th>Inv_Temp</th>\n",
       "      <th>smiles</th>\n",
       "      <th>seq</th>\n",
       "      <th>source</th>\n",
       "    </tr>\n",
       "  </thead>\n",
       "  <tbody>\n",
       "    <tr>\n",
       "      <th>0</th>\n",
       "      <td>1.1.1.1</td>\n",
       "      <td>Ethanol</td>\n",
       "      <td>P49384</td>\n",
       "      <td>WT</td>\n",
       "      <td>None</td>\n",
       "      <td>408.33330</td>\n",
       "      <td>25.0</td>\n",
       "      <td>298.15</td>\n",
       "      <td>0.003354</td>\n",
       "      <td>CCO</td>\n",
       "      <td>MLRLTSARSIVSPLRKGAFGSIRTLATSVPETQKGVIFYENGGKLE...</td>\n",
       "      <td>sabiork</td>\n",
       "    </tr>\n",
       "    <tr>\n",
       "      <th>1</th>\n",
       "      <td>1.1.1.1</td>\n",
       "      <td>Acetaldehyde</td>\n",
       "      <td>P49384</td>\n",
       "      <td>WT</td>\n",
       "      <td>None</td>\n",
       "      <td>1143.33300</td>\n",
       "      <td>25.0</td>\n",
       "      <td>298.15</td>\n",
       "      <td>0.003354</td>\n",
       "      <td>CC=O</td>\n",
       "      <td>MLRLTSARSIVSPLRKGAFGSIRTLATSVPETQKGVIFYENGGKLE...</td>\n",
       "      <td>sabiork</td>\n",
       "    </tr>\n",
       "    <tr>\n",
       "      <th>2</th>\n",
       "      <td>1.1.1.1</td>\n",
       "      <td>1-Butanol</td>\n",
       "      <td>P06757</td>\n",
       "      <td>WT</td>\n",
       "      <td>None</td>\n",
       "      <td>14.33333</td>\n",
       "      <td>25.0</td>\n",
       "      <td>298.15</td>\n",
       "      <td>0.003354</td>\n",
       "      <td>CCCCO</td>\n",
       "      <td>MSTAGKVIKCKAAVLWEPHKPFTIEDIEVAPPKAHEVRIKMVATGV...</td>\n",
       "      <td>sabiork</td>\n",
       "    </tr>\n",
       "    <tr>\n",
       "      <th>3</th>\n",
       "      <td>1.1.1.1</td>\n",
       "      <td>Butanal</td>\n",
       "      <td>P06757</td>\n",
       "      <td>WT</td>\n",
       "      <td>None</td>\n",
       "      <td>156.00000</td>\n",
       "      <td>25.0</td>\n",
       "      <td>298.15</td>\n",
       "      <td>0.003354</td>\n",
       "      <td>CCCC=O</td>\n",
       "      <td>MSTAGKVIKCKAAVLWEPHKPFTIEDIEVAPPKAHEVRIKMVATGV...</td>\n",
       "      <td>sabiork</td>\n",
       "    </tr>\n",
       "    <tr>\n",
       "      <th>4</th>\n",
       "      <td>1.1.1.1</td>\n",
       "      <td>1-Octanal</td>\n",
       "      <td>P06757</td>\n",
       "      <td>WT</td>\n",
       "      <td>None</td>\n",
       "      <td>390.00000</td>\n",
       "      <td>25.0</td>\n",
       "      <td>298.15</td>\n",
       "      <td>0.003354</td>\n",
       "      <td>CCCCCCCC=O</td>\n",
       "      <td>MSTAGKVIKCKAAVLWEPHKPFTIEDIEVAPPKAHEVRIKMVATGV...</td>\n",
       "      <td>sabiork</td>\n",
       "    </tr>\n",
       "  </tbody>\n",
       "</table>\n",
       "</div>"
      ],
      "text/plain": [
       "        EC           sub  ProtID EnzymeType Mutation        kcat  Temp  \\\n",
       "0  1.1.1.1       Ethanol  P49384         WT     None   408.33330  25.0   \n",
       "1  1.1.1.1  Acetaldehyde  P49384         WT     None  1143.33300  25.0   \n",
       "2  1.1.1.1     1-Butanol  P06757         WT     None    14.33333  25.0   \n",
       "3  1.1.1.1       Butanal  P06757         WT     None   156.00000  25.0   \n",
       "4  1.1.1.1     1-Octanal  P06757         WT     None   390.00000  25.0   \n",
       "\n",
       "   Temp_K  Inv_Temp      smiles  \\\n",
       "0  298.15  0.003354         CCO   \n",
       "1  298.15  0.003354        CC=O   \n",
       "2  298.15  0.003354       CCCCO   \n",
       "3  298.15  0.003354      CCCC=O   \n",
       "4  298.15  0.003354  CCCCCCCC=O   \n",
       "\n",
       "                                                 seq   source  \n",
       "0  MLRLTSARSIVSPLRKGAFGSIRTLATSVPETQKGVIFYENGGKLE...  sabiork  \n",
       "1  MLRLTSARSIVSPLRKGAFGSIRTLATSVPETQKGVIFYENGGKLE...  sabiork  \n",
       "2  MSTAGKVIKCKAAVLWEPHKPFTIEDIEVAPPKAHEVRIKMVATGV...  sabiork  \n",
       "3  MSTAGKVIKCKAAVLWEPHKPFTIEDIEVAPPKAHEVRIKMVATGV...  sabiork  \n",
       "4  MSTAGKVIKCKAAVLWEPHKPFTIEDIEVAPPKAHEVRIKMVATGV...  sabiork  "
      ]
     },
     "execution_count": 3,
     "metadata": {},
     "output_type": "execute_result"
    }
   ],
   "source": [
    "kcat_merge = pd.read_csv('../data/kcat_merge.csv')\n",
    "TC_list = list(kcat_merge['Temp'])\n",
    "kcat_merge['Temp_K'] = [ float(T+273.15) for T in TC_list]\n",
    "kcat_merge = kcat_merge[ ['EC', 'sub', 'ProtID', 'EnzymeType', 'Mutation', 'kcat', 'Temp', 'Temp_K',\n",
    "       'Inv_Temp', 'smiles', 'seq', 'source']]\n",
    "EC = [x.replace('()','').strip() for x in list(kcat_merge['EC'])]\n",
    "kcat_merge['EC'] = EC\n",
    "kcat_merge.head()"
   ]
  },
  {
   "cell_type": "code",
   "execution_count": 4,
   "id": "c9039556",
   "metadata": {},
   "outputs": [
    {
     "name": "stdout",
     "output_type": "stream",
     "text": [
      "['Intermediate' 'Primary - Carbohydrate & Energy Metabolism'\n",
      " 'Primary - amino acids, fatty acids and nucleotides' 'Secondary'\n",
      " 'Secondary_other' 'x']\n"
     ]
    }
   ],
   "source": [
    "ec_module = pd.read_csv('../data/module_ec.txt',sep='\\t',header=None)\n",
    "ec_module = ec_module.drop([0],axis=1)\n",
    "ec_module = ec_module.rename(columns = {1:'EC',2:'Pathway'})\n",
    "print(np.unique(ec_module['Pathway']) )\n",
    "enz_paths = {'Primary':set(),'Secondary':set()}\n",
    "for i in range( len(ec_module['EC']) ):\n",
    "    ec = list(ec_module['EC'])[i].replace('EC','').strip()\n",
    "    if 'Primary' in list(ec_module['Pathway'])[i]:\n",
    "        enz_paths['Primary'].add(ec)\n",
    "    else:\n",
    "        enz_paths['Secondary'].add(ec)"
   ]
  },
  {
   "cell_type": "code",
   "execution_count": 5,
   "id": "f9135076",
   "metadata": {},
   "outputs": [
    {
     "data": {
      "text/plain": [
       "<matplotlib_venn._common.VennDiagram at 0x7f084ddd4590>"
      ]
     },
     "execution_count": 5,
     "metadata": {},
     "output_type": "execute_result"
    },
    {
     "data": {
      "image/png": "[encoded data removed]",
      "text/plain": [
       "<Figure size 640x480 with 1 Axes>"
      ]
     },
     "metadata": {},
     "output_type": "display_data"
    }
   ],
   "source": [
    "from matplotlib_venn import venn2\n",
    "venn2([enz_paths['Primary'],enz_paths['Secondary']], ['Primary','Secondary'])"
   ]
  },
  {
   "cell_type": "code",
   "execution_count": 6,
   "id": "51381ce3",
   "metadata": {},
   "outputs": [
    {
     "data": {
      "text/html": [
       "<div>\n",
       "<style scoped>\n",
       "    .dataframe tbody tr th:only-of-type {\n",
       "        vertical-align: middle;\n",
       "    }\n",
       "\n",
       "    .dataframe tbody tr th {\n",
       "        vertical-align: top;\n",
       "    }\n",
       "\n",
       "    .dataframe thead th {\n",
       "        text-align: right;\n",
       "    }\n",
       "</style>\n",
       "<table border=\"1\" class=\"dataframe\">\n",
       "  <thead>\n",
       "    <tr style=\"text-align: right;\">\n",
       "      <th></th>\n",
       "      <th>EC</th>\n",
       "      <th>sub</th>\n",
       "      <th>ProtID</th>\n",
       "      <th>EnzymeType</th>\n",
       "      <th>Mutation</th>\n",
       "      <th>kcat</th>\n",
       "      <th>Temp</th>\n",
       "      <th>Temp_K</th>\n",
       "      <th>Inv_Temp</th>\n",
       "      <th>smiles</th>\n",
       "      <th>seq</th>\n",
       "      <th>source</th>\n",
       "      <th>pathway</th>\n",
       "    </tr>\n",
       "  </thead>\n",
       "  <tbody>\n",
       "    <tr>\n",
       "      <th>0</th>\n",
       "      <td>1.1.1.1</td>\n",
       "      <td>Ethanol</td>\n",
       "      <td>P49384</td>\n",
       "      <td>WT</td>\n",
       "      <td>None</td>\n",
       "      <td>408.33330</td>\n",
       "      <td>25.0</td>\n",
       "      <td>298.15</td>\n",
       "      <td>0.003354</td>\n",
       "      <td>CCO</td>\n",
       "      <td>MLRLTSARSIVSPLRKGAFGSIRTLATSVPETQKGVIFYENGGKLE...</td>\n",
       "      <td>sabiork</td>\n",
       "      <td>Secondary</td>\n",
       "    </tr>\n",
       "    <tr>\n",
       "      <th>1</th>\n",
       "      <td>1.1.1.1</td>\n",
       "      <td>Acetaldehyde</td>\n",
       "      <td>P49384</td>\n",
       "      <td>WT</td>\n",
       "      <td>None</td>\n",
       "      <td>1143.33300</td>\n",
       "      <td>25.0</td>\n",
       "      <td>298.15</td>\n",
       "      <td>0.003354</td>\n",
       "      <td>CC=O</td>\n",
       "      <td>MLRLTSARSIVSPLRKGAFGSIRTLATSVPETQKGVIFYENGGKLE...</td>\n",
       "      <td>sabiork</td>\n",
       "      <td>Secondary</td>\n",
       "    </tr>\n",
       "    <tr>\n",
       "      <th>2</th>\n",
       "      <td>1.1.1.1</td>\n",
       "      <td>1-Butanol</td>\n",
       "      <td>P06757</td>\n",
       "      <td>WT</td>\n",
       "      <td>None</td>\n",
       "      <td>14.33333</td>\n",
       "      <td>25.0</td>\n",
       "      <td>298.15</td>\n",
       "      <td>0.003354</td>\n",
       "      <td>CCCCO</td>\n",
       "      <td>MSTAGKVIKCKAAVLWEPHKPFTIEDIEVAPPKAHEVRIKMVATGV...</td>\n",
       "      <td>sabiork</td>\n",
       "      <td>Secondary</td>\n",
       "    </tr>\n",
       "    <tr>\n",
       "      <th>3</th>\n",
       "      <td>1.1.1.1</td>\n",
       "      <td>Butanal</td>\n",
       "      <td>P06757</td>\n",
       "      <td>WT</td>\n",
       "      <td>None</td>\n",
       "      <td>156.00000</td>\n",
       "      <td>25.0</td>\n",
       "      <td>298.15</td>\n",
       "      <td>0.003354</td>\n",
       "      <td>CCCC=O</td>\n",
       "      <td>MSTAGKVIKCKAAVLWEPHKPFTIEDIEVAPPKAHEVRIKMVATGV...</td>\n",
       "      <td>sabiork</td>\n",
       "      <td>Secondary</td>\n",
       "    </tr>\n",
       "    <tr>\n",
       "      <th>4</th>\n",
       "      <td>1.1.1.1</td>\n",
       "      <td>1-Octanal</td>\n",
       "      <td>P06757</td>\n",
       "      <td>WT</td>\n",
       "      <td>None</td>\n",
       "      <td>390.00000</td>\n",
       "      <td>25.0</td>\n",
       "      <td>298.15</td>\n",
       "      <td>0.003354</td>\n",
       "      <td>CCCCCCCC=O</td>\n",
       "      <td>MSTAGKVIKCKAAVLWEPHKPFTIEDIEVAPPKAHEVRIKMVATGV...</td>\n",
       "      <td>sabiork</td>\n",
       "      <td>Secondary</td>\n",
       "    </tr>\n",
       "  </tbody>\n",
       "</table>\n",
       "</div>"
      ],
      "text/plain": [
       "        EC           sub  ProtID EnzymeType Mutation        kcat  Temp  \\\n",
       "0  1.1.1.1       Ethanol  P49384         WT     None   408.33330  25.0   \n",
       "1  1.1.1.1  Acetaldehyde  P49384         WT     None  1143.33300  25.0   \n",
       "2  1.1.1.1     1-Butanol  P06757         WT     None    14.33333  25.0   \n",
       "3  1.1.1.1       Butanal  P06757         WT     None   156.00000  25.0   \n",
       "4  1.1.1.1     1-Octanal  P06757         WT     None   390.00000  25.0   \n",
       "\n",
       "   Temp_K  Inv_Temp      smiles  \\\n",
       "0  298.15  0.003354         CCO   \n",
       "1  298.15  0.003354        CC=O   \n",
       "2  298.15  0.003354       CCCCO   \n",
       "3  298.15  0.003354      CCCC=O   \n",
       "4  298.15  0.003354  CCCCCCCC=O   \n",
       "\n",
       "                                                 seq   source    pathway  \n",
       "0  MLRLTSARSIVSPLRKGAFGSIRTLATSVPETQKGVIFYENGGKLE...  sabiork  Secondary  \n",
       "1  MLRLTSARSIVSPLRKGAFGSIRTLATSVPETQKGVIFYENGGKLE...  sabiork  Secondary  \n",
       "2  MSTAGKVIKCKAAVLWEPHKPFTIEDIEVAPPKAHEVRIKMVATGV...  sabiork  Secondary  \n",
       "3  MSTAGKVIKCKAAVLWEPHKPFTIEDIEVAPPKAHEVRIKMVATGV...  sabiork  Secondary  \n",
       "4  MSTAGKVIKCKAAVLWEPHKPFTIEDIEVAPPKAHEVRIKMVATGV...  sabiork  Secondary  "
      ]
     },
     "execution_count": 6,
     "metadata": {},
     "output_type": "execute_result"
    }
   ],
   "source": [
    "pathway = []\n",
    "for i in range(len(kcat_merge['EC'])):\n",
    "    if list( kcat_merge['EC'] )[i] in enz_paths['Primary']:\n",
    "        pathway.append('Primary')\n",
    "    elif list( kcat_merge['EC'] )[i] not in (enz_paths['Primary'] | enz_paths['Secondary']):\n",
    "        pathway.append('Un-annotated')\n",
    "    else:\n",
    "        pathway.append('Secondary')\n",
    "kcat_merge['pathway'] = pathway\n",
    "kcat_merge.head()      "
   ]
  },
  {
   "cell_type": "code",
   "execution_count": 7,
   "id": "a40a0bd1",
   "metadata": {},
   "outputs": [
    {
     "data": {
      "image/png": "[encoded data removed]",
      "text/plain": [
       "<Figure size 640x480 with 1 Axes>"
      ]
     },
     "metadata": {},
     "output_type": "display_data"
    }
   ],
   "source": [
    "plt.hist(kcat_merge['pathway']);"
   ]
  },
  {
   "cell_type": "code",
   "execution_count": null,
   "id": "b08bc926",
   "metadata": {},
   "outputs": [],
   "source": [
    "# kcat_merge.to_csv('../data/kcat_merge.csv',index=None)"
   ]
  },
  {
   "cell_type": "markdown",
   "id": "21e207bd",
   "metadata": {},
   "source": [
    "# Random oversampling entries of low and high temperatures\n",
    "* 6000 duplicates for T >= 40C\n",
    "* 2000 duplicates for T <= 20C"
   ]
  },
  {
   "cell_type": "code",
   "execution_count": 8,
   "id": "204d50d4",
   "metadata": {},
   "outputs": [],
   "source": [
    "kcat_merge = pd.read_csv('../data/kcat_merge.csv')"
   ]
  },
  {
   "cell_type": "code",
   "execution_count": null,
   "id": "970a9eb5",
   "metadata": {},
   "outputs": [],
   "source": [
    "# high_set = (kcat_merge[kcat_merge['Temp']>=40]).reset_index().drop(['index'],axis=1)\n",
    "# low_set = (kcat_merge[kcat_merge['Temp']<=20]).reset_index().drop(['index'],axis=1)\n",
    "# over_low, over_high = [],[]\n",
    "# for i in range( 2*len(high_set.index) ):\n",
    "#     rand_idx = np.random.randint( len(high_set['EC'] ) - 1,size=1)[0]\n",
    "#     temp_data = dict( high_set.iloc[rand_idx] )\n",
    "#     over_high.append( temp_data )\n",
    "# for i in range( 2*len(low_set.index) ):\n",
    "#     rand_idx = np.random.randint( len(low_set['EC'] ) - 1,size=1)[0]\n",
    "#     temp_data = dict( low_set.iloc[rand_idx] )\n",
    "#     over_low.append( temp_data )\n",
    "# over_set = over_low + over_high\n",
    "# random.shuffle(over_set)\n",
    "# over_pd = pd.DataFrame(over_set)"
   ]
  },
  {
   "cell_type": "code",
   "execution_count": null,
   "id": "df72e661",
   "metadata": {},
   "outputs": [],
   "source": [
    "# process_pd = ( pd.concat([ kcat_merge, over_pd]) ).reset_index().drop(['index'],axis=1)\n",
    "# T_K_norm = scale_minmax(process_pd['Temp_K'], min(process_pd['Temp_K']) , max(process_pd['Temp_K']))\n",
    "# inv_T_norm = scale_minmax(process_pd['Inv_Temp'], min(process_pd['Inv_Temp']) , max(process_pd['Inv_Temp']))\n",
    "# process_pd['Temp_K_norm'] = T_K_norm\n",
    "# process_pd['Inv_Temp_norm'] = inv_T_norm"
   ]
  },
  {
   "cell_type": "code",
   "execution_count": 9,
   "id": "c2eba6bb",
   "metadata": {},
   "outputs": [
    {
     "data": {
      "text/html": [
       "<div>\n",
       "<style scoped>\n",
       "    .dataframe tbody tr th:only-of-type {\n",
       "        vertical-align: middle;\n",
       "    }\n",
       "\n",
       "    .dataframe tbody tr th {\n",
       "        vertical-align: top;\n",
       "    }\n",
       "\n",
       "    .dataframe thead th {\n",
       "        text-align: right;\n",
       "    }\n",
       "</style>\n",
       "<table border=\"1\" class=\"dataframe\">\n",
       "  <thead>\n",
       "    <tr style=\"text-align: right;\">\n",
       "      <th></th>\n",
       "      <th>EC</th>\n",
       "      <th>sub</th>\n",
       "      <th>ProtID</th>\n",
       "      <th>EnzymeType</th>\n",
       "      <th>Mutation</th>\n",
       "      <th>kcat</th>\n",
       "      <th>Temp</th>\n",
       "      <th>Temp_K</th>\n",
       "      <th>Inv_Temp</th>\n",
       "      <th>smiles</th>\n",
       "      <th>seq</th>\n",
       "      <th>source</th>\n",
       "      <th>pathway</th>\n",
       "      <th>Temp_K_norm</th>\n",
       "      <th>Inv_Temp_norm</th>\n",
       "    </tr>\n",
       "  </thead>\n",
       "  <tbody>\n",
       "    <tr>\n",
       "      <th>0</th>\n",
       "      <td>1.1.1.1</td>\n",
       "      <td>Ethanol</td>\n",
       "      <td>P49384</td>\n",
       "      <td>WT</td>\n",
       "      <td>None</td>\n",
       "      <td>408.33330</td>\n",
       "      <td>25.0</td>\n",
       "      <td>298.15</td>\n",
       "      <td>0.003354</td>\n",
       "      <td>CCO</td>\n",
       "      <td>MLRLTSARSIVSPLRKGAFGSIRTLATSVPETQKGVIFYENGGKLE...</td>\n",
       "      <td>sabiork</td>\n",
       "      <td>Secondary</td>\n",
       "      <td>0.25</td>\n",
       "      <td>0.687112</td>\n",
       "    </tr>\n",
       "    <tr>\n",
       "      <th>1</th>\n",
       "      <td>1.1.1.1</td>\n",
       "      <td>Acetaldehyde</td>\n",
       "      <td>P49384</td>\n",
       "      <td>WT</td>\n",
       "      <td>None</td>\n",
       "      <td>1143.33300</td>\n",
       "      <td>25.0</td>\n",
       "      <td>298.15</td>\n",
       "      <td>0.003354</td>\n",
       "      <td>CC=O</td>\n",
       "      <td>MLRLTSARSIVSPLRKGAFGSIRTLATSVPETQKGVIFYENGGKLE...</td>\n",
       "      <td>sabiork</td>\n",
       "      <td>Secondary</td>\n",
       "      <td>0.25</td>\n",
       "      <td>0.687112</td>\n",
       "    </tr>\n",
       "    <tr>\n",
       "      <th>2</th>\n",
       "      <td>1.1.1.1</td>\n",
       "      <td>1-Butanol</td>\n",
       "      <td>P06757</td>\n",
       "      <td>WT</td>\n",
       "      <td>None</td>\n",
       "      <td>14.33333</td>\n",
       "      <td>25.0</td>\n",
       "      <td>298.15</td>\n",
       "      <td>0.003354</td>\n",
       "      <td>CCCCO</td>\n",
       "      <td>MSTAGKVIKCKAAVLWEPHKPFTIEDIEVAPPKAHEVRIKMVATGV...</td>\n",
       "      <td>sabiork</td>\n",
       "      <td>Secondary</td>\n",
       "      <td>0.25</td>\n",
       "      <td>0.687112</td>\n",
       "    </tr>\n",
       "    <tr>\n",
       "      <th>3</th>\n",
       "      <td>1.1.1.1</td>\n",
       "      <td>Butanal</td>\n",
       "      <td>P06757</td>\n",
       "      <td>WT</td>\n",
       "      <td>None</td>\n",
       "      <td>156.00000</td>\n",
       "      <td>25.0</td>\n",
       "      <td>298.15</td>\n",
       "      <td>0.003354</td>\n",
       "      <td>CCCC=O</td>\n",
       "      <td>MSTAGKVIKCKAAVLWEPHKPFTIEDIEVAPPKAHEVRIKMVATGV...</td>\n",
       "      <td>sabiork</td>\n",
       "      <td>Secondary</td>\n",
       "      <td>0.25</td>\n",
       "      <td>0.687112</td>\n",
       "    </tr>\n",
       "    <tr>\n",
       "      <th>4</th>\n",
       "      <td>1.1.1.1</td>\n",
       "      <td>1-Octanal</td>\n",
       "      <td>P06757</td>\n",
       "      <td>WT</td>\n",
       "      <td>None</td>\n",
       "      <td>390.00000</td>\n",
       "      <td>25.0</td>\n",
       "      <td>298.15</td>\n",
       "      <td>0.003354</td>\n",
       "      <td>CCCCCCCC=O</td>\n",
       "      <td>MSTAGKVIKCKAAVLWEPHKPFTIEDIEVAPPKAHEVRIKMVATGV...</td>\n",
       "      <td>sabiork</td>\n",
       "      <td>Secondary</td>\n",
       "      <td>0.25</td>\n",
       "      <td>0.687112</td>\n",
       "    </tr>\n",
       "  </tbody>\n",
       "</table>\n",
       "</div>"
      ],
      "text/plain": [
       "        EC           sub  ProtID EnzymeType Mutation        kcat  Temp  \\\n",
       "0  1.1.1.1       Ethanol  P49384         WT     None   408.33330  25.0   \n",
       "1  1.1.1.1  Acetaldehyde  P49384         WT     None  1143.33300  25.0   \n",
       "2  1.1.1.1     1-Butanol  P06757         WT     None    14.33333  25.0   \n",
       "3  1.1.1.1       Butanal  P06757         WT     None   156.00000  25.0   \n",
       "4  1.1.1.1     1-Octanal  P06757         WT     None   390.00000  25.0   \n",
       "\n",
       "   Temp_K  Inv_Temp      smiles  \\\n",
       "0  298.15  0.003354         CCO   \n",
       "1  298.15  0.003354        CC=O   \n",
       "2  298.15  0.003354       CCCCO   \n",
       "3  298.15  0.003354      CCCC=O   \n",
       "4  298.15  0.003354  CCCCCCCC=O   \n",
       "\n",
       "                                                 seq   source    pathway  \\\n",
       "0  MLRLTSARSIVSPLRKGAFGSIRTLATSVPETQKGVIFYENGGKLE...  sabiork  Secondary   \n",
       "1  MLRLTSARSIVSPLRKGAFGSIRTLATSVPETQKGVIFYENGGKLE...  sabiork  Secondary   \n",
       "2  MSTAGKVIKCKAAVLWEPHKPFTIEDIEVAPPKAHEVRIKMVATGV...  sabiork  Secondary   \n",
       "3  MSTAGKVIKCKAAVLWEPHKPFTIEDIEVAPPKAHEVRIKMVATGV...  sabiork  Secondary   \n",
       "4  MSTAGKVIKCKAAVLWEPHKPFTIEDIEVAPPKAHEVRIKMVATGV...  sabiork  Secondary   \n",
       "\n",
       "   Temp_K_norm  Inv_Temp_norm  \n",
       "0         0.25       0.687112  \n",
       "1         0.25       0.687112  \n",
       "2         0.25       0.687112  \n",
       "3         0.25       0.687112  \n",
       "4         0.25       0.687112  "
      ]
     },
     "execution_count": 9,
     "metadata": {},
     "output_type": "execute_result"
    }
   ],
   "source": [
    "process_pd = pd.read_csv('../data/processed_data.csv')\n",
    "process_pd.head()"
   ]
  },
  {
   "cell_type": "code",
   "execution_count": 10,
   "id": "84d5d113",
   "metadata": {},
   "outputs": [
    {
     "data": {
      "image/png": "[encoded data removed]",
      "text/plain": [
       "<Figure size 1000x400 with 2 Axes>"
      ]
     },
     "metadata": {},
     "output_type": "display_data"
    }
   ],
   "source": [
    "fig, axs = plt.subplots(1,2,figsize=(10,4))\n",
    "axs[0].hist(kcat_merge['Temp'],bins=20);\n",
    "axs[1].hist(process_pd['Temp'],bins=20);\n",
    "axs[0].set_title('Original dataset')\n",
    "axs[0].set_ylabel('Count')\n",
    "axs[1].set_title('Oversampled dataset(<20&>40)')\n",
    "for ax in axs:\n",
    "    ax.set_xlabel('Temperature(Celcius)')\n",
    "    ax.axvline(x=20,color='r', linestyle='--')\n",
    "    ax.axvline(x=40,color='r', linestyle='--')\n",
    "    ax.grid()"
   ]
  },
  {
   "cell_type": "code",
   "execution_count": null,
   "id": "f9a2d6ae",
   "metadata": {},
   "outputs": [],
   "source": [
    "# process_pd.to_csv('../data/processed_data.csv',index=None)"
   ]
  },
  {
   "cell_type": "markdown",
   "id": "953cacbe",
   "metadata": {},
   "source": [
    "# Dataset split"
   ]
  },
  {
   "cell_type": "code",
   "execution_count": null,
   "id": "3f88c1ae",
   "metadata": {},
   "outputs": [],
   "source": [
    "process_pd = pd.read_csv('../data/processed_data.csv')\n",
    "process_pd.head()"
   ]
  },
  {
   "cell_type": "code",
   "execution_count": null,
   "id": "410bf0ea",
   "metadata": {},
   "outputs": [],
   "source": [
    "ratio = 0.1\n",
    "idx = np.arange( len( process_pd['EC']) )\n",
    "np.random.shuffle(idx)\n",
    "num_split = int( len( process_pd['EC']) * ratio)\n",
    "idx_test, idx_train = idx[:num_split], idx[num_split:]\n",
    "test_data, train_data = process_pd.iloc[idx_test].reset_index().drop(['index'],axis=1),\\\n",
    "                        process_pd.iloc[idx_train].reset_index().drop(['index'],axis=1) \n",
    "print(len(train_data['EC']))"
   ]
  },
  {
   "cell_type": "code",
   "execution_count": null,
   "id": "76e43cfe",
   "metadata": {},
   "outputs": [],
   "source": [
    "fig, axs = plt.subplots(1,2,figsize=(10,4))\n",
    "axs[0].hist(np.log10(train_data['kcat']),bins=50,color=(128/255, 166/255, 226/255) );\n",
    "axs[1].hist( np.log10(test_data['kcat']),bins=50,color=(128/255, 166/255, 226/255) );\n",
    "ax.set_xlabel('log10(kcat)')\n",
    "axs[0].set_ylabel('Count')\n",
    "axs[0].set_title('Train set (number=19479)');\n",
    "axs[1].set_title('Test set (number=2164)');\n",
    "axs[0].grid()\n",
    "axs[1].grid()\n",
    "plt.savefig('train-test.pdf', dpi=300, bbox_inches='tight')\n"
   ]
  },
  {
   "cell_type": "code",
   "execution_count": null,
   "id": "e54b08de",
   "metadata": {},
   "outputs": [],
   "source": [
    "fig, axs = plt.subplots(2,2,figsize=(10,8))\n",
    "axs[0][0].hist(np.log10(test_data['kcat']),bins=50 );\n",
    "axs[0][1].hist( np.log10(train_data['kcat']),bins=50 );\n",
    "for ax in axs[0]:\n",
    "    ax.set_xlabel('log10(kcat)')\n",
    "axs[0][0].set_ylabel('Count')\n",
    "axs[0][0].set_title('Test set(n=2164)');\n",
    "axs[0][1].set_title('Train set(n=19479)');\n",
    "axs[1][0].hist(test_data['Temp'],bins=30 );\n",
    "axs[1][1].hist(train_data['Temp'],bins=30 );\n",
    "axs[1][0].set_ylabel('Count');\n",
    "for ax in axs[1]:\n",
    "    ax.set_xlabel('Temperature(Celsius)')"
   ]
  },
  {
   "cell_type": "code",
   "execution_count": null,
   "id": "8e6b9e19",
   "metadata": {},
   "outputs": [],
   "source": [
    "# test_data.to_csv('../data/test_data.csv',index=None)\n",
    "# train_data.to_csv('../data/train_data.csv',index=None)"
   ]
  },
  {
   "cell_type": "markdown",
   "id": "c47685b5",
   "metadata": {},
   "source": [
    "# Hyperparameters"
   ]
  },
  {
   "cell_type": "code",
   "execution_count": null,
   "id": "c86f98e9",
   "metadata": {},
   "outputs": [],
   "source": [
    "# default_dict = { 'comp_dim': 80, 'prot_dim': 80, 'gat_dim': 50, \n",
    "#                 'num_head': 3, 'dropout': 0.1, 'alpha': 0.1, \n",
    "#                 'window':5, 'layer_cnn': 4, 'latent_dim': 80, 'layer_out': 4}"
   ]
  },
  {
   "cell_type": "code",
   "execution_count": null,
   "id": "41f8eabc",
   "metadata": {},
   "outputs": [],
   "source": [
    "# dump_pickle(default_dict, '../data/hyparams/default.pkl')"
   ]
  },
  {
   "cell_type": "code",
   "execution_count": null,
   "id": "1ca18084",
   "metadata": {},
   "outputs": [],
   "source": [
    "# param_list = []\n",
    "\n",
    "# for ld in [40,64]:\n",
    "#     for num_out in [3,4,5,6]:\n",
    "#         temp_param = default_dict.copy()\n",
    "#         temp_param['latent_dim'] = ld\n",
    "#         temp_param['layer_out'] = num_out\n",
    "#         param_list.append( temp_param )"
   ]
  },
  {
   "cell_type": "code",
   "execution_count": null,
   "id": "da261d39",
   "metadata": {},
   "outputs": [],
   "source": [
    "# for i in range(len(param_list)):\n",
    "#     dump_pickle( param_list[i], '../data/hyparams/param_'+str(i+1)+'.pkl')"
   ]
  },
  {
   "cell_type": "code",
   "execution_count": null,
   "id": "d67ad541",
   "metadata": {},
   "outputs": [],
   "source": [
    "# for num_out in [8,10,12]:\n",
    "#     temp_param = default_dict.copy()\n",
    "#     temp_param['latent_dim'] = 64\n",
    "#     temp_param['layer_out'] = num_out\n",
    "#     dump_pickle( temp_param, '../data/hyparams/param_layerout'+str(num_out)+'.pkl')"
   ]
  },
  {
   "cell_type": "code",
   "execution_count": null,
   "id": "5029cbaf",
   "metadata": {},
   "outputs": [],
   "source": [
    "fig, axs = plt.subplots(1,2,figsize=(12,4))\n",
    "bars = axs[0].bar(['Sabio-RK','Brenda'],\n",
    "           [list(kcat_merge['source']).count('sabiork'), list(kcat_merge['source']).count('brenda')])\n",
    "axs[0].bar_label(bars, fontsize=8, color='navy')\n",
    "axs[0].set_title('Source')\n",
    "\n",
    "bars = axs[1].bar(['WT','Mutant'],\n",
    "        [list(kcat_merge['EnzymeType']).count('WT'), list(kcat_merge['EnzymeType']).count('MUT')])\n",
    "axs[1].bar_label(bars, fontsize=8, color='navy')\n",
    "axs[1].set_title('Enzyme type')\n",
    "\n",
    "for ax in axs:\n",
    "    ax.set_ylabel('Count')"
   ]
  },
  {
   "cell_type": "code",
   "execution_count": null,
   "id": "0d6c6b0b",
   "metadata": {},
   "outputs": [],
   "source": []
  }
 ],
 "metadata": {
  "kernelspec": {
   "display_name": "Python 3 (ipykernel)",
   "language": "python",
   "name": "python3"
  },
  "language_info": {
   "codemirror_mode": {
    "name": "ipython",
    "version": 3
   },
   "file_extension": ".py",
   "mimetype": "text/x-python",
   "name": "python",
   "nbconvert_exporter": "python",
   "pygments_lexer": "ipython3",
   "version": "3.7.16"
  }
 },
 "nbformat": 4,
 "nbformat_minor": 5
}
